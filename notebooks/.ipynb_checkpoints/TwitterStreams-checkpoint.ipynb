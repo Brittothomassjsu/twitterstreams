{
 "cells": [
  {
   "cell_type": "markdown",
   "metadata": {},
   "source": [
    "Simple Python notebook to leverage Twitter streaming API to collect tweets and save to a cloudant database.\n"
   ]
  },
  {
   "cell_type": "code",
   "execution_count": null,
   "metadata": {
    "collapsed": true
   },
   "outputs": [],
   "source": [
    "# load required libraries\n",
    "import tweepy\n",
    "import json\n",
    "import cloudant\n",
    "from cloudant.client import Cloudant\n",
    "from cloudant.document import Document\n",
    "\n",
    "#Import the necessary methods from tweepy library\n",
    "from tweepy.streaming import StreamListener\n",
    "from tweepy import OAuthHandler\n",
    "from tweepy import Stream"
   ]
  },
  {
   "cell_type": "code",
   "execution_count": null,
   "metadata": {
    "collapsed": false
   },
   "outputs": [],
   "source": [
    "# Provide complete path to the file which includes all required parms\n",
    "# A sample parms file is included (example_parms.json)\n",
    "parmsFile = 'PATH to your parms file including '\n",
    "parms = ''\n",
    "with open(parmsFile) as parmFile:\n",
    "    parms = json.load(parmFile)\n",
    "\n",
    "twitter_consumer_key=parms['twitter_consumer_key']\n",
    "twitter_consumer_secret=parms['twitter_consumer_secret']\n",
    "twitter_access_token=parms['twitter_access_token']\n",
    "twitter_access_token_secret=parms['twitter_access_token_secret']\n",
    "\n",
    "cloudant_username=parms['cloudant_username']\n",
    "cloudant_password=parms['cloudant_password']\n",
    "cloudant_url=parms['cloudant_url']\n",
    "cloudant_database_name=parms['cloudant_database_name']"
   ]
  },
  {
   "cell_type": "code",
   "execution_count": null,
   "metadata": {
    "collapsed": true
   },
   "outputs": [],
   "source": [
    "# Cloudnt client\n",
    "client = Cloudant(cloudant_username, cloudant_password, url=cloudant_url, connect=True)"
   ]
  },
  {
   "cell_type": "code",
   "execution_count": null,
   "metadata": {
    "collapsed": false
   },
   "outputs": [],
   "source": [
    "# Create a cloudant database with the given name\n",
    "# If Exception returned, then database exists, just get a reference to it\n",
    "try:\n",
    "    tweets_db = client.create_database(cloudant_database_name)\n",
    "except Exception, e:\n",
    "    tweets_db = client[cloudant_database_name]\n",
    "if tweets_db.exists():\n",
    "    print \"Database \", cloudant_database_name, \" ready\""
   ]
  },
  {
   "cell_type": "markdown",
   "metadata": {},
   "source": [
    "## Twitter's Streaming API\n",
    "\n",
    "For more details on Twitter's streaming api, please check the following:\n",
    "https://dev.twitter.com/overview/api/tweets\n"
   ]
  },
  {
   "cell_type": "code",
   "execution_count": null,
   "metadata": {
    "collapsed": true
   },
   "outputs": [],
   "source": [
    "# useful method to remove a substring from a string\n",
    "def remove_substring(orgstr, substr):\n",
    "    newstr = orgstr.replace(substr, \"\")\n",
    "    return newstr"
   ]
  },
  {
   "cell_type": "code",
   "execution_count": null,
   "metadata": {
    "collapsed": true
   },
   "outputs": [],
   "source": [
    "#This is a basic listener that just prints received tweets to stdout.\n",
    "# For reference: http://adilmoujahid.com/posts/2014/07/twitter-analytics/\n",
    "# https://blog.gnip.com/tag/data-streaming/\n",
    "\n",
    "class StdOutListener(StreamListener):\n",
    "\n",
    "    def on_data(self, data):\n",
    "        try:\n",
    "            # Decode the JSON from Twitter\n",
    "            datajson = json.loads(data)\n",
    "            \n",
    "            #grab the 'created_at' data from the Tweet to use for display\n",
    "            created_at = datajson['created_at']\n",
    "            \n",
    "            # Skip tweets not in English for purposes of this notebook\n",
    "            msg_lang = datajson['lang']\n",
    "            if msg_lang != \"en\":\n",
    "                return True\n",
    "\n",
    "            # grab useful values from the data for our application\n",
    "            msg_text = datajson['text']\n",
    "            msg_id = datajson['id']\n",
    "            msg_retweeted = datajson['retweeted']\n",
    "            msg_favorite_count = datajson['favorite_count']\n",
    "            msg_retweet_count = datajson['retweet_count']\n",
    "            msg_entities_hashtags = datajson['entities']['hashtags']\n",
    "            msg_entities_urls = datajson['entities']['urls']\n",
    "            msg_entities_user_mentions = datajson['entities']['user_mentions']\n",
    "            msg_entities_symbols = datajson['entities']['symbols']\n",
    "            msg_coordinates = datajson['coordinates']\n",
    "            msg_usr_screen_name = datajson['user']['screen_name']\n",
    "            msg_place = datajson['place']\n",
    "           \n",
    "            # Run some text clean-up by removing referenced entities, hashtags, symbols, and urls\n",
    "            # Save the result as 'text_clean' field\n",
    "            msg_text_cleaned = msg_text\n",
    "            if msg_entities_urls is not None:\n",
    "                for tweet_url in msg_entities_urls:\n",
    "                    substr = tweet_url['url']\n",
    "                    msg_text_cleaned = remove_substring(msg_text_cleaned,substr)\n",
    "            \n",
    "            if msg_entities_hashtags is not None:\n",
    "                for hashtag in msg_entities_hashtags:\n",
    "                    substr = '#' + hashtag['text']\n",
    "                    msg_text_cleaned = remove_substring(msg_text_cleaned,substr)\n",
    "\n",
    "            if msg_entities_symbols is not None:\n",
    "                for symbol in msg_entities_symbols:\n",
    "                    substr = symbol['text']\n",
    "                    msg_text_cleaned = remove_substring(msg_text_cleaned,substr)\n",
    "                \n",
    "            if msg_entities_user_mentions is not None:\n",
    "                for user_mention in msg_entities_user_mentions:\n",
    "                    substr = '@' + user_mention['screen_name']\n",
    "                    msg_text_cleaned = remove_substring(msg_text_cleaned,substr)\n",
    "\n",
    "            # Create user object with useful user information\n",
    "            usr_id = datajson['user']['id']\n",
    "            usr_followers_count = datajson['user']['followers_count']\n",
    "            usr_statuses_count = datajson['user']['statuses_count']\n",
    "            usr_friends_count = datajson['user']['friends_count']\n",
    "            usr_favourites_count = datajson['user']['favourites_count']\n",
    "            usr_screen_name = datajson['user']['screen_name']\n",
    "            usr_location = datajson['user']['location']\n",
    "            \n",
    "            usr = {\n",
    "                'id': usr_id,\n",
    "                'screen_name': usr_screen_name,\n",
    "                'followers_count': usr_followers_count,\n",
    "                'friends_count': usr_friends_count,\n",
    "                'favourites_count': usr_favourites_count,\n",
    "                'statuses_count': usr_statuses_count,\n",
    "                'location': usr_location\n",
    "            }\n",
    "            \n",
    "            # Define all relevant fields for message object\n",
    "            msg = {\n",
    "                'id': msg_id,\n",
    "                'created_at': created_at,\n",
    "                'text': msg_text,\n",
    "                'text_clean' : msg_text_cleaned,\n",
    "                'user': usr,\n",
    "                'lang': msg_lang,\n",
    "                'place': msg_place,\n",
    "                'favorite_count': msg_favorite_count,\n",
    "                'hashtags': msg_entities_hashtags,\n",
    "                'urls': msg_entities_urls,\n",
    "                'symbols': msg_entities_symbols,\n",
    "                'user_mentions': msg_entities_user_mentions,\n",
    "                'coordinates': msg_coordinates\n",
    "            }\n",
    "            msgjson = json.dumps(msg)\n",
    "            \n",
    "            print(\"Tweet collected at \" + str(created_at))\n",
    "            \n",
    "            # Add tweet to Cloudant\n",
    "            tweet = tweets_db.create_document(msg)\n",
    "            if tweet.exists():\n",
    "                print 'Tweet added'\n",
    "\n",
    "        except Exception as e:\n",
    "           print(e)\n",
    "        \n",
    "        \n",
    "        return True\n",
    "\n",
    "    def on_error(self, status):\n",
    "        print status"
   ]
  },
  {
   "cell_type": "code",
   "execution_count": null,
   "metadata": {
    "collapsed": false
   },
   "outputs": [],
   "source": [
    "#This handles Twitter authetification and the connection to Twitter Streaming API\n",
    "l = StdOutListener()\n",
    "auth = OAuthHandler(twitter_consumer_key, twitter_consumer_secret)\n",
    "auth.set_access_token(twitter_access_token, twitter_access_token_secret)\n",
    "stream = Stream(auth, l)\n",
    "\n",
    "# Collect tweets mentioning toyota or tesla\n",
    "keywords= ['keyword1','keyword2']\n",
    "\n",
    "stream.filter(track=keywords)"
   ]
  }
 ],
 "metadata": {
  "kernelspec": {
   "display_name": "Python 2",
   "language": "python",
   "name": "python2"
  },
  "language_info": {
   "codemirror_mode": {
    "name": "ipython",
    "version": 2
   },
   "file_extension": ".py",
   "mimetype": "text/x-python",
   "name": "python",
   "nbconvert_exporter": "python",
   "pygments_lexer": "ipython2",
   "version": "2.7.10"
  }
 },
 "nbformat": 4,
 "nbformat_minor": 0
}
